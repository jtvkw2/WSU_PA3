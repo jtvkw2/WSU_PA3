{
 "cells": [
  {
   "cell_type": "markdown",
   "metadata": {},
   "source": [
    "# Programming Assignment 3: K-Means Clustering"
   ]
  },
  {
   "cell_type": "markdown",
   "metadata": {},
   "source": [
    "## Import Data"
   ]
  },
  {
   "cell_type": "code",
   "execution_count": 242,
   "metadata": {},
   "outputs": [],
   "source": [
    "import numpy as np\n",
    "import pandas as pd\n",
    "import seaborn as sns\n",
    "import random as rd\n",
    "import matplotlib.pyplot as plt\n",
    "from sklearn.metrics.cluster import completeness_score\n",
    "from sklearn.cluster import KMeans"
   ]
  },
  {
   "cell_type": "code",
   "execution_count": 243,
   "metadata": {},
   "outputs": [
    {
     "data": {
      "text/html": [
       "<div>\n",
       "<style scoped>\n",
       "    .dataframe tbody tr th:only-of-type {\n",
       "        vertical-align: middle;\n",
       "    }\n",
       "\n",
       "    .dataframe tbody tr th {\n",
       "        vertical-align: top;\n",
       "    }\n",
       "\n",
       "    .dataframe thead th {\n",
       "        text-align: right;\n",
       "    }\n",
       "</style>\n",
       "<table border=\"1\" class=\"dataframe\">\n",
       "  <thead>\n",
       "    <tr style=\"text-align: right;\">\n",
       "      <th></th>\n",
       "      <th>0</th>\n",
       "      <th>1</th>\n",
       "      <th>2</th>\n",
       "      <th>3</th>\n",
       "      <th>4</th>\n",
       "      <th>5</th>\n",
       "      <th>6</th>\n",
       "      <th>7</th>\n",
       "      <th>8</th>\n",
       "      <th>9</th>\n",
       "      <th>10</th>\n",
       "    </tr>\n",
       "  </thead>\n",
       "  <tbody>\n",
       "    <tr>\n",
       "      <th>0</th>\n",
       "      <td>g0</td>\n",
       "      <td>0.0</td>\n",
       "      <td>0.1</td>\n",
       "      <td>0.2</td>\n",
       "      <td>0.0</td>\n",
       "      <td>0.4</td>\n",
       "      <td>0.5</td>\n",
       "      <td>0.6</td>\n",
       "      <td>0.7</td>\n",
       "      <td>0.8</td>\n",
       "      <td>0.9</td>\n",
       "    </tr>\n",
       "    <tr>\n",
       "      <th>1</th>\n",
       "      <td>g1</td>\n",
       "      <td>1.0</td>\n",
       "      <td>0.9</td>\n",
       "      <td>0.8</td>\n",
       "      <td>0.7</td>\n",
       "      <td>0.6</td>\n",
       "      <td>0.5</td>\n",
       "      <td>0.4</td>\n",
       "      <td>0.3</td>\n",
       "      <td>0.0</td>\n",
       "      <td>0.1</td>\n",
       "    </tr>\n",
       "    <tr>\n",
       "      <th>2</th>\n",
       "      <td>g2</td>\n",
       "      <td>0.1</td>\n",
       "      <td>0.2</td>\n",
       "      <td>0.3</td>\n",
       "      <td>0.4</td>\n",
       "      <td>0.5</td>\n",
       "      <td>0.6</td>\n",
       "      <td>0.7</td>\n",
       "      <td>0.8</td>\n",
       "      <td>0.9</td>\n",
       "      <td>1.0</td>\n",
       "    </tr>\n",
       "    <tr>\n",
       "      <th>3</th>\n",
       "      <td>g3</td>\n",
       "      <td>0.4</td>\n",
       "      <td>0.4</td>\n",
       "      <td>0.4</td>\n",
       "      <td>0.4</td>\n",
       "      <td>0.4</td>\n",
       "      <td>0.4</td>\n",
       "      <td>0.4</td>\n",
       "      <td>0.4</td>\n",
       "      <td>0.4</td>\n",
       "      <td>0.4</td>\n",
       "    </tr>\n",
       "    <tr>\n",
       "      <th>4</th>\n",
       "      <td>g4</td>\n",
       "      <td>0.9</td>\n",
       "      <td>0.8</td>\n",
       "      <td>0.7</td>\n",
       "      <td>0.6</td>\n",
       "      <td>0.5</td>\n",
       "      <td>0.4</td>\n",
       "      <td>0.3</td>\n",
       "      <td>0.2</td>\n",
       "      <td>0.1</td>\n",
       "      <td>0.0</td>\n",
       "    </tr>\n",
       "  </tbody>\n",
       "</table>\n",
       "</div>"
      ],
      "text/plain": [
       "   0    1    2    3    4    5    6    7    8    9    10\n",
       "0  g0  0.0  0.1  0.2  0.0  0.4  0.5  0.6  0.7  0.8  0.9\n",
       "1  g1  1.0  0.9  0.8  0.7  0.6  0.5  0.4  0.3  0.0  0.1\n",
       "2  g2  0.1  0.2  0.3  0.4  0.5  0.6  0.7  0.8  0.9  1.0\n",
       "3  g3  0.4  0.4  0.4  0.4  0.4  0.4  0.4  0.4  0.4  0.4\n",
       "4  g4  0.9  0.8  0.7  0.6  0.5  0.4  0.3  0.2  0.1  0.0"
      ]
     },
     "execution_count": 243,
     "metadata": {},
     "output_type": "execute_result"
    }
   ],
   "source": [
    "simple_data = pd.read_csv(\"simple.csv\", header = None)\n",
    "simple_data.head()"
   ]
  },
  {
   "cell_type": "code",
   "execution_count": 244,
   "metadata": {},
   "outputs": [
    {
     "data": {
      "text/html": [
       "<div>\n",
       "<style scoped>\n",
       "    .dataframe tbody tr th:only-of-type {\n",
       "        vertical-align: middle;\n",
       "    }\n",
       "\n",
       "    .dataframe tbody tr th {\n",
       "        vertical-align: top;\n",
       "    }\n",
       "\n",
       "    .dataframe thead th {\n",
       "        text-align: right;\n",
       "    }\n",
       "</style>\n",
       "<table border=\"1\" class=\"dataframe\">\n",
       "  <thead>\n",
       "    <tr style=\"text-align: right;\">\n",
       "      <th></th>\n",
       "      <th>0</th>\n",
       "      <th>1</th>\n",
       "      <th>2</th>\n",
       "      <th>3</th>\n",
       "      <th>4</th>\n",
       "      <th>5</th>\n",
       "      <th>6</th>\n",
       "      <th>7</th>\n",
       "      <th>8</th>\n",
       "      <th>9</th>\n",
       "      <th>...</th>\n",
       "      <th>61</th>\n",
       "      <th>62</th>\n",
       "      <th>63</th>\n",
       "      <th>64</th>\n",
       "      <th>65</th>\n",
       "      <th>66</th>\n",
       "      <th>67</th>\n",
       "      <th>68</th>\n",
       "      <th>69</th>\n",
       "      <th>70</th>\n",
       "    </tr>\n",
       "  </thead>\n",
       "  <tbody>\n",
       "    <tr>\n",
       "      <th>0</th>\n",
       "      <td>recur26</td>\n",
       "      <td>0.128002</td>\n",
       "      <td>-0.052396</td>\n",
       "      <td>-0.243591</td>\n",
       "      <td>1.119036</td>\n",
       "      <td>-0.638129</td>\n",
       "      <td>0.035529</td>\n",
       "      <td>-0.686474</td>\n",
       "      <td>-0.317596</td>\n",
       "      <td>-0.775309</td>\n",
       "      <td>...</td>\n",
       "      <td>0.554033</td>\n",
       "      <td>-0.041529</td>\n",
       "      <td>-0.406905</td>\n",
       "      <td>-0.297769</td>\n",
       "      <td>0.497385</td>\n",
       "      <td>-0.677355</td>\n",
       "      <td>0.050457</td>\n",
       "      <td>-0.447646</td>\n",
       "      <td>-0.155460</td>\n",
       "      <td>0.059345</td>\n",
       "    </tr>\n",
       "    <tr>\n",
       "      <th>1</th>\n",
       "      <td>non05</td>\n",
       "      <td>-1.142952</td>\n",
       "      <td>0.383225</td>\n",
       "      <td>-0.428263</td>\n",
       "      <td>0.153928</td>\n",
       "      <td>-0.481902</td>\n",
       "      <td>0.866565</td>\n",
       "      <td>0.367257</td>\n",
       "      <td>0.863332</td>\n",
       "      <td>-0.166169</td>\n",
       "      <td>...</td>\n",
       "      <td>-0.518305</td>\n",
       "      <td>-0.171306</td>\n",
       "      <td>-0.464664</td>\n",
       "      <td>-0.693288</td>\n",
       "      <td>0.341177</td>\n",
       "      <td>0.085424</td>\n",
       "      <td>-0.646862</td>\n",
       "      <td>-0.654781</td>\n",
       "      <td>-0.831625</td>\n",
       "      <td>-0.933931</td>\n",
       "    </tr>\n",
       "    <tr>\n",
       "      <th>2</th>\n",
       "      <td>recur14</td>\n",
       "      <td>-0.385717</td>\n",
       "      <td>-0.419375</td>\n",
       "      <td>-0.502132</td>\n",
       "      <td>-0.713520</td>\n",
       "      <td>-0.321211</td>\n",
       "      <td>0.043856</td>\n",
       "      <td>0.716788</td>\n",
       "      <td>-0.007181</td>\n",
       "      <td>0.265306</td>\n",
       "      <td>...</td>\n",
       "      <td>-0.730204</td>\n",
       "      <td>1.162806</td>\n",
       "      <td>0.672467</td>\n",
       "      <td>0.892113</td>\n",
       "      <td>-0.005952</td>\n",
       "      <td>-0.054792</td>\n",
       "      <td>1.050800</td>\n",
       "      <td>0.941582</td>\n",
       "      <td>-0.065305</td>\n",
       "      <td>2.478585</td>\n",
       "    </tr>\n",
       "    <tr>\n",
       "      <th>3</th>\n",
       "      <td>non31</td>\n",
       "      <td>0.114659</td>\n",
       "      <td>-0.292648</td>\n",
       "      <td>-0.597106</td>\n",
       "      <td>1.486697</td>\n",
       "      <td>-0.597957</td>\n",
       "      <td>0.157103</td>\n",
       "      <td>0.053708</td>\n",
       "      <td>0.309983</td>\n",
       "      <td>-0.665325</td>\n",
       "      <td>...</td>\n",
       "      <td>-0.036716</td>\n",
       "      <td>-1.136850</td>\n",
       "      <td>-0.952007</td>\n",
       "      <td>-1.188518</td>\n",
       "      <td>-0.691533</td>\n",
       "      <td>0.068598</td>\n",
       "      <td>-1.110525</td>\n",
       "      <td>-0.958339</td>\n",
       "      <td>-0.435585</td>\n",
       "      <td>-0.245441</td>\n",
       "    </tr>\n",
       "    <tr>\n",
       "      <th>4</th>\n",
       "      <td>recur02</td>\n",
       "      <td>0.374854</td>\n",
       "      <td>0.480910</td>\n",
       "      <td>-0.676252</td>\n",
       "      <td>0.487120</td>\n",
       "      <td>0.339409</td>\n",
       "      <td>0.365279</td>\n",
       "      <td>-0.532270</td>\n",
       "      <td>0.397709</td>\n",
       "      <td>0.296327</td>\n",
       "      <td>...</td>\n",
       "      <td>0.464136</td>\n",
       "      <td>-0.882486</td>\n",
       "      <td>-0.255288</td>\n",
       "      <td>-0.151526</td>\n",
       "      <td>-0.157822</td>\n",
       "      <td>0.051772</td>\n",
       "      <td>-0.175898</td>\n",
       "      <td>-0.504787</td>\n",
       "      <td>0.140764</td>\n",
       "      <td>-0.226392</td>\n",
       "    </tr>\n",
       "  </tbody>\n",
       "</table>\n",
       "<p>5 rows × 71 columns</p>\n",
       "</div>"
      ],
      "text/plain": [
       "        0         1         2         3         4         5         6   \\\n",
       "0  recur26  0.128002 -0.052396 -0.243591  1.119036 -0.638129  0.035529   \n",
       "1    non05 -1.142952  0.383225 -0.428263  0.153928 -0.481902  0.866565   \n",
       "2  recur14 -0.385717 -0.419375 -0.502132 -0.713520 -0.321211  0.043856   \n",
       "3    non31  0.114659 -0.292648 -0.597106  1.486697 -0.597957  0.157103   \n",
       "4  recur02  0.374854  0.480910 -0.676252  0.487120  0.339409  0.365279   \n",
       "\n",
       "         7         8         9   ...        61        62        63        64  \\\n",
       "0 -0.686474 -0.317596 -0.775309  ...  0.554033 -0.041529 -0.406905 -0.297769   \n",
       "1  0.367257  0.863332 -0.166169  ... -0.518305 -0.171306 -0.464664 -0.693288   \n",
       "2  0.716788 -0.007181  0.265306  ... -0.730204  1.162806  0.672467  0.892113   \n",
       "3  0.053708  0.309983 -0.665325  ... -0.036716 -1.136850 -0.952007 -1.188518   \n",
       "4 -0.532270  0.397709  0.296327  ...  0.464136 -0.882486 -0.255288 -0.151526   \n",
       "\n",
       "         65        66        67        68        69        70  \n",
       "0  0.497385 -0.677355  0.050457 -0.447646 -0.155460  0.059345  \n",
       "1  0.341177  0.085424 -0.646862 -0.654781 -0.831625 -0.933931  \n",
       "2 -0.005952 -0.054792  1.050800  0.941582 -0.065305  2.478585  \n",
       "3 -0.691533  0.068598 -1.110525 -0.958339 -0.435585 -0.245441  \n",
       "4 -0.157822  0.051772 -0.175898 -0.504787  0.140764 -0.226392  \n",
       "\n",
       "[5 rows x 71 columns]"
      ]
     },
     "execution_count": 244,
     "metadata": {},
     "output_type": "execute_result"
    }
   ],
   "source": [
    "cancer_data = pd.read_csv(\"cancer.csv\", header=None)\n",
    "cancer_data.head()"
   ]
  },
  {
   "cell_type": "markdown",
   "metadata": {},
   "source": [
    "## Initaial Heatmaps"
   ]
  },
  {
   "cell_type": "code",
   "execution_count": 245,
   "metadata": {},
   "outputs": [
    {
     "data": {
      "text/plain": [
       "<matplotlib.axes._subplots.AxesSubplot at 0x7ffcb8675310>"
      ]
     },
     "execution_count": 245,
     "metadata": {},
     "output_type": "execute_result"
    },
    {
     "data": {
      "image/png": "[encoded data removed]",
      "text/plain": [
       "<Figure size 720x360 with 2 Axes>"
      ]
     },
     "metadata": {
      "needs_background": "light"
     },
     "output_type": "display_data"
    }
   ],
   "source": [
    "fig, ax = plt.subplots(figsize=(10,5))  \n",
    "sns.heatmap(simple_data.iloc[:, 1:], cmap='coolwarm', robust=True, ax = ax)"
   ]
  },
  {
   "cell_type": "code",
   "execution_count": 246,
   "metadata": {},
   "outputs": [
    {
     "data": {
      "text/plain": [
       "<matplotlib.axes._subplots.AxesSubplot at 0x7ffc6affbb90>"
      ]
     },
     "execution_count": 246,
     "metadata": {},
     "output_type": "execute_result"
    },
    {
     "data": {
      "image/png": "[encoded data removed]",
      "text/plain": [
       "<Figure size 1296x720 with 2 Axes>"
      ]
     },
     "metadata": {
      "needs_background": "light"
     },
     "output_type": "display_data"
    }
   ],
   "source": [
    "fig, ax = plt.subplots(figsize=(18,10))  \n",
    "sns.heatmap(cancer_data.iloc[:, 1:], cmap='coolwarm', robust=True, ax = ax)"
   ]
  },
  {
   "cell_type": "markdown",
   "metadata": {},
   "source": [
    "## K-Means Algorithm"
   ]
  },
  {
   "cell_type": "code",
   "execution_count": 296,
   "metadata": {},
   "outputs": [],
   "source": [
    "S = simple_data.iloc[:, 1:].values\n",
    "n_s = 3\n",
    "\n",
    "C = cancer_data.iloc[:, 1:].values\n",
    "n_c = 4"
   ]
  },
  {
   "cell_type": "markdown",
   "metadata": {},
   "source": [
    "### Determine best number of clusters"
   ]
  },
  {
   "cell_type": "code",
   "execution_count": 248,
   "metadata": {},
   "outputs": [
    {
     "data": {
      "image/png": "[encoded data removed]",
      "text/plain": [
       "<Figure size 432x288 with 1 Axes>"
      ]
     },
     "metadata": {
      "needs_background": "light"
     },
     "output_type": "display_data"
    }
   ],
   "source": [
    "from sklearn.cluster import KMeans\n",
    "wcss = []\n",
    "for i in range(1, 7):\n",
    "    kmeans = KMeans(n_clusters = i)\n",
    "    kmeans.fit(S)\n",
    "    wcss.append(kmeans.inertia_)\n",
    "plt.plot(range(1, 7), wcss)\n",
    "plt.title('Elbow for Simple')\n",
    "plt.xlabel('Number of clusters')\n",
    "plt.ylabel('WCSS')\n",
    "plt.show()"
   ]
  },
  {
   "cell_type": "code",
   "execution_count": 249,
   "metadata": {},
   "outputs": [
    {
     "data": {
      "image/png": "[encoded data removed]",
      "text/plain": [
       "<Figure size 432x288 with 1 Axes>"
      ]
     },
     "metadata": {
      "needs_background": "light"
     },
     "output_type": "display_data"
    }
   ],
   "source": [
    "from sklearn.cluster import KMeans\n",
    "wcss = []\n",
    "for i in range(1, 15):\n",
    "    kmeans = KMeans(n_clusters = i)\n",
    "    kmeans.fit(C)\n",
    "    wcss.append(kmeans.inertia_)\n",
    "plt.plot(range(1, 15), wcss)\n",
    "plt.title('Elbow for Cancer')\n",
    "plt.xlabel('Number of clusters')\n",
    "plt.ylabel('WCSS')\n",
    "plt.show()"
   ]
  },
  {
   "cell_type": "markdown",
   "metadata": {},
   "source": [
    "### Personal Implementation"
   ]
  },
  {
   "cell_type": "code",
   "execution_count": 313,
   "metadata": {},
   "outputs": [],
   "source": [
    "class K_Means():\n",
    "    def __init__(self, n_clusters=3, m_iter=300, rs=None):\n",
    "        self.n_clusters = n_clusters\n",
    "        self.m_iter = m_iter\n",
    "        self.rs = rs\n",
    "\n",
    "    def fit(self, data):\n",
    "        if self.rs:\n",
    "            np.random.seed(self.rs)\n",
    "        initial = np.random.permutation(data.shape[0])[:self.n_clusters]\n",
    "        self.cluster_centers_ = data[initial]\n",
    "\n",
    "        for _ in range(self.m_iter):\n",
    "            self.labels_ = [self._closest(self.cluster_centers_, d) for d in data]\n",
    "            indices = [[i for i, l in enumerate(self.labels_) if l == j]\n",
    "                        for j in range(self.n_clusters)]\n",
    "            data_by_cluster = [data[i] for i in indices]\n",
    "            self.cluster_centers_ = [c.sum(axis=0) / len(c) for c in data_by_cluster]\n",
    "        return self\n",
    "\n",
    "    def _closest(self, clusters, x):\n",
    "        return np.argmin([self._distance(x, c) for c in clusters])\n",
    "\n",
    "    def _distance(self, a, b):\n",
    "        return np.sqrt(((a - b)**2).sum())\n",
    "\n",
    "    def predict(self, X):\n",
    "        return self.labels_"
   ]
  },
  {
   "cell_type": "code",
   "execution_count": 314,
   "metadata": {},
   "outputs": [
    {
     "name": "stdout",
     "output_type": "stream",
     "text": [
      "[2, 1, 2, 0, 1, 0]\n"
     ]
    }
   ],
   "source": [
    "model = K_Means(n_clusters=n_s)\n",
    "model.fit(S)\n",
    "s_pred = model.predict(S)\n",
    "simple_data['Cluster'] = s_pred\n",
    "print(s_pred)"
   ]
  },
  {
   "cell_type": "code",
   "execution_count": 315,
   "metadata": {},
   "outputs": [
    {
     "name": "stdout",
     "output_type": "stream",
     "text": [
      "[0, 0, 3, 1, 0, 1, 0, 0, 2, 1, 2, 1, 0, 2, 1, 1, 1, 2, 3, 3, 3, 1, 1, 1, 1, 0, 1, 2, 1, 1, 1, 0, 0, 2, 1, 0, 0, 2, 2, 2, 0, 3, 0, 0, 3, 0, 3, 2, 2, 1, 1, 3, 0, 0, 2, 0, 2, 0, 1, 3, 1, 1, 2, 1, 1, 0, 2, 2, 2, 1, 0, 0, 1, 0, 1, 1, 0, 2]\n"
     ]
    }
   ],
   "source": [
    "model = K_Means(n_clusters=n_c)\n",
    "model.fit(C)\n",
    "c_pred = model.predict(C)\n",
    "cancer_data['Cluster'] = c_pred\n",
    "print(y_pred)"
   ]
  },
  {
   "cell_type": "markdown",
   "metadata": {},
   "source": [
    "### Skit-learn Implementation"
   ]
  },
  {
   "cell_type": "code",
   "execution_count": 299,
   "metadata": {},
   "outputs": [
    {
     "name": "stdout",
     "output_type": "stream",
     "text": [
      "[1 0 1 2 0 2]\n"
     ]
    }
   ],
   "source": [
    "kmeans = KMeans(n_clusters=n_s)\n",
    "s_true = kmeans.fit_predict(S)\n",
    "print(s_true)"
   ]
  },
  {
   "cell_type": "code",
   "execution_count": 300,
   "metadata": {},
   "outputs": [
    {
     "name": "stdout",
     "output_type": "stream",
     "text": [
      "[0 0 0 1 1 1 0 1 0 1 2 1 1 2 1 1 1 0 3 0 0 1 1 1 1 0 1 2 1 1 1 0 0 2 1 0 1\n",
      " 0 2 2 0 0 0 0 0 0 0 2 2 1 1 0 1 1 2 0 2 0 1 0 1 1 2 1 1 1 2 2 0 1 0 0 1 0\n",
      " 1 1 0 2]\n"
     ]
    }
   ],
   "source": [
    "kmeans = KMeans(n_clusters=n_c)\n",
    "c_true = kmeans.fit_predict(C)\n",
    "print(c_true)"
   ]
  },
  {
   "cell_type": "markdown",
   "metadata": {},
   "source": [
    "## Accuracy Tests"
   ]
  },
  {
   "cell_type": "code",
   "execution_count": 301,
   "metadata": {},
   "outputs": [
    {
     "name": "stdout",
     "output_type": "stream",
     "text": [
      "Simple data prediction accuracy: 1.0\n",
      "Cancer data prediction accuracy: 0.8385849756481171\n"
     ]
    }
   ],
   "source": [
    "print(\"Simple data prediction accuracy: \" + str(completeness_score(s_pred, s_true)))\n",
    "print(\"Cancer data prediction accuracy: \" + str(completeness_score(c_pred, c_true)))"
   ]
  },
  {
   "cell_type": "markdown",
   "metadata": {},
   "source": [
    "## Visulizations"
   ]
  },
  {
   "cell_type": "code",
   "execution_count": 267,
   "metadata": {},
   "outputs": [
    {
     "data": {
      "text/html": [
       "<div>\n",
       "<style scoped>\n",
       "    .dataframe tbody tr th:only-of-type {\n",
       "        vertical-align: middle;\n",
       "    }\n",
       "\n",
       "    .dataframe tbody tr th {\n",
       "        vertical-align: top;\n",
       "    }\n",
       "\n",
       "    .dataframe thead th {\n",
       "        text-align: right;\n",
       "    }\n",
       "</style>\n",
       "<table border=\"1\" class=\"dataframe\">\n",
       "  <thead>\n",
       "    <tr style=\"text-align: right;\">\n",
       "      <th></th>\n",
       "      <th>0</th>\n",
       "      <th>1</th>\n",
       "      <th>2</th>\n",
       "      <th>3</th>\n",
       "      <th>4</th>\n",
       "      <th>5</th>\n",
       "      <th>6</th>\n",
       "      <th>7</th>\n",
       "      <th>8</th>\n",
       "      <th>9</th>\n",
       "      <th>10</th>\n",
       "      <th>Cluster</th>\n",
       "    </tr>\n",
       "  </thead>\n",
       "  <tbody>\n",
       "    <tr>\n",
       "      <th>1</th>\n",
       "      <td>g1</td>\n",
       "      <td>1.0</td>\n",
       "      <td>0.9</td>\n",
       "      <td>0.8</td>\n",
       "      <td>0.7</td>\n",
       "      <td>0.6</td>\n",
       "      <td>0.5</td>\n",
       "      <td>0.4</td>\n",
       "      <td>0.3</td>\n",
       "      <td>0.0</td>\n",
       "      <td>0.1</td>\n",
       "      <td>2</td>\n",
       "    </tr>\n",
       "    <tr>\n",
       "      <th>4</th>\n",
       "      <td>g4</td>\n",
       "      <td>0.9</td>\n",
       "      <td>0.8</td>\n",
       "      <td>0.7</td>\n",
       "      <td>0.6</td>\n",
       "      <td>0.5</td>\n",
       "      <td>0.4</td>\n",
       "      <td>0.3</td>\n",
       "      <td>0.2</td>\n",
       "      <td>0.1</td>\n",
       "      <td>0.0</td>\n",
       "      <td>2</td>\n",
       "    </tr>\n",
       "    <tr>\n",
       "      <th>3</th>\n",
       "      <td>g3</td>\n",
       "      <td>0.4</td>\n",
       "      <td>0.4</td>\n",
       "      <td>0.4</td>\n",
       "      <td>0.4</td>\n",
       "      <td>0.4</td>\n",
       "      <td>0.4</td>\n",
       "      <td>0.4</td>\n",
       "      <td>0.4</td>\n",
       "      <td>0.4</td>\n",
       "      <td>0.4</td>\n",
       "      <td>1</td>\n",
       "    </tr>\n",
       "    <tr>\n",
       "      <th>5</th>\n",
       "      <td>g5</td>\n",
       "      <td>0.5</td>\n",
       "      <td>0.0</td>\n",
       "      <td>0.5</td>\n",
       "      <td>0.5</td>\n",
       "      <td>0.5</td>\n",
       "      <td>0.5</td>\n",
       "      <td>0.5</td>\n",
       "      <td>0.5</td>\n",
       "      <td>0.5</td>\n",
       "      <td>0.5</td>\n",
       "      <td>1</td>\n",
       "    </tr>\n",
       "    <tr>\n",
       "      <th>0</th>\n",
       "      <td>g0</td>\n",
       "      <td>0.0</td>\n",
       "      <td>0.1</td>\n",
       "      <td>0.2</td>\n",
       "      <td>0.0</td>\n",
       "      <td>0.4</td>\n",
       "      <td>0.5</td>\n",
       "      <td>0.6</td>\n",
       "      <td>0.7</td>\n",
       "      <td>0.8</td>\n",
       "      <td>0.9</td>\n",
       "      <td>0</td>\n",
       "    </tr>\n",
       "  </tbody>\n",
       "</table>\n",
       "</div>"
      ],
      "text/plain": [
       "    0    1    2    3    4    5    6    7    8    9   10  Cluster\n",
       "1  g1  1.0  0.9  0.8  0.7  0.6  0.5  0.4  0.3  0.0  0.1        2\n",
       "4  g4  0.9  0.8  0.7  0.6  0.5  0.4  0.3  0.2  0.1  0.0        2\n",
       "3  g3  0.4  0.4  0.4  0.4  0.4  0.4  0.4  0.4  0.4  0.4        1\n",
       "5  g5  0.5  0.0  0.5  0.5  0.5  0.5  0.5  0.5  0.5  0.5        1\n",
       "0  g0  0.0  0.1  0.2  0.0  0.4  0.5  0.6  0.7  0.8  0.9        0"
      ]
     },
     "execution_count": 267,
     "metadata": {},
     "output_type": "execute_result"
    }
   ],
   "source": [
    "sd = simple_data.sort_values(['Cluster'],ascending=False)\n",
    "sd.head()"
   ]
  },
  {
   "cell_type": "code",
   "execution_count": 268,
   "metadata": {},
   "outputs": [
    {
     "data": {
      "text/html": [
       "<div>\n",
       "<style scoped>\n",
       "    .dataframe tbody tr th:only-of-type {\n",
       "        vertical-align: middle;\n",
       "    }\n",
       "\n",
       "    .dataframe tbody tr th {\n",
       "        vertical-align: top;\n",
       "    }\n",
       "\n",
       "    .dataframe thead th {\n",
       "        text-align: right;\n",
       "    }\n",
       "</style>\n",
       "<table border=\"1\" class=\"dataframe\">\n",
       "  <thead>\n",
       "    <tr style=\"text-align: right;\">\n",
       "      <th></th>\n",
       "      <th>0</th>\n",
       "      <th>1</th>\n",
       "      <th>2</th>\n",
       "      <th>3</th>\n",
       "      <th>4</th>\n",
       "      <th>5</th>\n",
       "      <th>6</th>\n",
       "      <th>7</th>\n",
       "      <th>8</th>\n",
       "      <th>9</th>\n",
       "      <th>...</th>\n",
       "      <th>62</th>\n",
       "      <th>63</th>\n",
       "      <th>64</th>\n",
       "      <th>65</th>\n",
       "      <th>66</th>\n",
       "      <th>67</th>\n",
       "      <th>68</th>\n",
       "      <th>69</th>\n",
       "      <th>70</th>\n",
       "      <th>Cluster</th>\n",
       "    </tr>\n",
       "  </thead>\n",
       "  <tbody>\n",
       "    <tr>\n",
       "      <th>16</th>\n",
       "      <td>non06</td>\n",
       "      <td>0.458250</td>\n",
       "      <td>0.803006</td>\n",
       "      <td>1.935539</td>\n",
       "      <td>2.250741</td>\n",
       "      <td>1.517811</td>\n",
       "      <td>1.627655</td>\n",
       "      <td>0.963515</td>\n",
       "      <td>0.532672</td>\n",
       "      <td>1.576649</td>\n",
       "      <td>...</td>\n",
       "      <td>-1.193952</td>\n",
       "      <td>-0.533253</td>\n",
       "      <td>-0.995744</td>\n",
       "      <td>0.510403</td>\n",
       "      <td>-1.142875</td>\n",
       "      <td>-1.000998</td>\n",
       "      <td>-0.936912</td>\n",
       "      <td>-0.206977</td>\n",
       "      <td>-1.339405</td>\n",
       "      <td>3</td>\n",
       "    </tr>\n",
       "    <tr>\n",
       "      <th>61</th>\n",
       "      <td>non14</td>\n",
       "      <td>0.348167</td>\n",
       "      <td>0.821487</td>\n",
       "      <td>-0.090577</td>\n",
       "      <td>-0.983521</td>\n",
       "      <td>-0.214083</td>\n",
       "      <td>1.924097</td>\n",
       "      <td>1.477531</td>\n",
       "      <td>0.711499</td>\n",
       "      <td>0.048159</td>\n",
       "      <td>...</td>\n",
       "      <td>-0.737136</td>\n",
       "      <td>-1.154163</td>\n",
       "      <td>-1.743574</td>\n",
       "      <td>-0.201213</td>\n",
       "      <td>-1.692525</td>\n",
       "      <td>-1.964833</td>\n",
       "      <td>-1.586885</td>\n",
       "      <td>-0.213417</td>\n",
       "      <td>-0.027736</td>\n",
       "      <td>3</td>\n",
       "    </tr>\n",
       "    <tr>\n",
       "      <th>30</th>\n",
       "      <td>non42</td>\n",
       "      <td>0.708438</td>\n",
       "      <td>0.618197</td>\n",
       "      <td>0.711427</td>\n",
       "      <td>0.090737</td>\n",
       "      <td>0.875046</td>\n",
       "      <td>1.168003</td>\n",
       "      <td>1.554633</td>\n",
       "      <td>0.819469</td>\n",
       "      <td>0.000217</td>\n",
       "      <td>...</td>\n",
       "      <td>-1.251054</td>\n",
       "      <td>-1.078355</td>\n",
       "      <td>-2.105856</td>\n",
       "      <td>-0.999611</td>\n",
       "      <td>-0.004314</td>\n",
       "      <td>-3.231690</td>\n",
       "      <td>-2.140433</td>\n",
       "      <td>-0.625556</td>\n",
       "      <td>-0.786981</td>\n",
       "      <td>3</td>\n",
       "    </tr>\n",
       "    <tr>\n",
       "      <th>28</th>\n",
       "      <td>non30</td>\n",
       "      <td>0.184711</td>\n",
       "      <td>1.233348</td>\n",
       "      <td>0.489821</td>\n",
       "      <td>0.251588</td>\n",
       "      <td>-0.017683</td>\n",
       "      <td>1.262931</td>\n",
       "      <td>0.855572</td>\n",
       "      <td>-0.337841</td>\n",
       "      <td>1.283359</td>\n",
       "      <td>...</td>\n",
       "      <td>-1.334112</td>\n",
       "      <td>-0.385246</td>\n",
       "      <td>-0.759761</td>\n",
       "      <td>-1.125445</td>\n",
       "      <td>-0.368878</td>\n",
       "      <td>-1.650856</td>\n",
       "      <td>-1.144046</td>\n",
       "      <td>-0.329331</td>\n",
       "      <td>-0.405998</td>\n",
       "      <td>3</td>\n",
       "    </tr>\n",
       "    <tr>\n",
       "      <th>49</th>\n",
       "      <td>non07</td>\n",
       "      <td>0.084636</td>\n",
       "      <td>2.257718</td>\n",
       "      <td>1.043837</td>\n",
       "      <td>0.027545</td>\n",
       "      <td>1.535665</td>\n",
       "      <td>0.093818</td>\n",
       "      <td>0.434080</td>\n",
       "      <td>1.352574</td>\n",
       "      <td>1.071852</td>\n",
       "      <td>...</td>\n",
       "      <td>-1.557329</td>\n",
       "      <td>-0.316657</td>\n",
       "      <td>-0.842854</td>\n",
       "      <td>-0.227247</td>\n",
       "      <td>-0.464225</td>\n",
       "      <td>-1.377040</td>\n",
       "      <td>-0.826202</td>\n",
       "      <td>-0.603017</td>\n",
       "      <td>-0.332523</td>\n",
       "      <td>3</td>\n",
       "    </tr>\n",
       "  </tbody>\n",
       "</table>\n",
       "<p>5 rows × 72 columns</p>\n",
       "</div>"
      ],
      "text/plain": [
       "        0         1         2         3         4         5         6  \\\n",
       "16  non06  0.458250  0.803006  1.935539  2.250741  1.517811  1.627655   \n",
       "61  non14  0.348167  0.821487 -0.090577 -0.983521 -0.214083  1.924097   \n",
       "30  non42  0.708438  0.618197  0.711427  0.090737  0.875046  1.168003   \n",
       "28  non30  0.184711  1.233348  0.489821  0.251588 -0.017683  1.262931   \n",
       "49  non07  0.084636  2.257718  1.043837  0.027545  1.535665  0.093818   \n",
       "\n",
       "           7         8         9  ...        62        63        64        65  \\\n",
       "16  0.963515  0.532672  1.576649  ... -1.193952 -0.533253 -0.995744  0.510403   \n",
       "61  1.477531  0.711499  0.048159  ... -0.737136 -1.154163 -1.743574 -0.201213   \n",
       "30  1.554633  0.819469  0.000217  ... -1.251054 -1.078355 -2.105856 -0.999611   \n",
       "28  0.855572 -0.337841  1.283359  ... -1.334112 -0.385246 -0.759761 -1.125445   \n",
       "49  0.434080  1.352574  1.071852  ... -1.557329 -0.316657 -0.842854 -0.227247   \n",
       "\n",
       "          66        67        68        69        70  Cluster  \n",
       "16 -1.142875 -1.000998 -0.936912 -0.206977 -1.339405        3  \n",
       "61 -1.692525 -1.964833 -1.586885 -0.213417 -0.027736        3  \n",
       "30 -0.004314 -3.231690 -2.140433 -0.625556 -0.786981        3  \n",
       "28 -0.368878 -1.650856 -1.144046 -0.329331 -0.405998        3  \n",
       "49 -0.464225 -1.377040 -0.826202 -0.603017 -0.332523        3  \n",
       "\n",
       "[5 rows x 72 columns]"
      ]
     },
     "execution_count": 268,
     "metadata": {},
     "output_type": "execute_result"
    }
   ],
   "source": [
    "cd = cancer_data.sort_values(['Cluster'],ascending=False)\n",
    "cd.head()"
   ]
  },
  {
   "cell_type": "markdown",
   "metadata": {},
   "source": [
    "### Updated Heatmaps"
   ]
  },
  {
   "cell_type": "code",
   "execution_count": 273,
   "metadata": {},
   "outputs": [
    {
     "data": {
      "text/plain": [
       "<matplotlib.axes._subplots.AxesSubplot at 0x7ffc6abcb1d0>"
      ]
     },
     "execution_count": 273,
     "metadata": {},
     "output_type": "execute_result"
    },
    {
     "data": {
      "image/png": "[encoded data removed]",
      "text/plain": [
       "<Figure size 720x360 with 2 Axes>"
      ]
     },
     "metadata": {
      "needs_background": "light"
     },
     "output_type": "display_data"
    }
   ],
   "source": [
    "fig, ax = plt.subplots(figsize=(10,5))  \n",
    "sns.heatmap(sd.iloc[:, 1:], cmap='coolwarm', robust=True, ax = ax)"
   ]
  },
  {
   "cell_type": "code",
   "execution_count": 272,
   "metadata": {},
   "outputs": [
    {
     "data": {
      "text/plain": [
       "<matplotlib.axes._subplots.AxesSubplot at 0x7ffc8aaf2610>"
      ]
     },
     "execution_count": 272,
     "metadata": {},
     "output_type": "execute_result"
    },
    {
     "data": {
      "image/png": "[encoded data removed]",
      "text/plain": [
       "<Figure size 1296x720 with 2 Axes>"
      ]
     },
     "metadata": {
      "needs_background": "light"
     },
     "output_type": "display_data"
    }
   ],
   "source": [
    "fig, ax = plt.subplots(figsize=(18,10))  \n",
    "sns.heatmap(cd.iloc[:, 1:], cmap='coolwarm', robust=True, ax = ax)"
   ]
  },
  {
   "cell_type": "code",
   "execution_count": null,
   "metadata": {},
   "outputs": [],
   "source": []
  }
 ],
 "metadata": {
  "kernelspec": {
   "display_name": "Python 3",
   "language": "python",
   "name": "python3"
  },
  "language_info": {
   "codemirror_mode": {
    "name": "ipython",
    "version": 3
   },
   "file_extension": ".py",
   "mimetype": "text/x-python",
   "name": "python",
   "nbconvert_exporter": "python",
   "pygments_lexer": "ipython3",
   "version": "3.7.6"
  }
 },
 "nbformat": 4,
 "nbformat_minor": 4
}
